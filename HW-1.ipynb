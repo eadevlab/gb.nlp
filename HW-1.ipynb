{
 "cells": [
  {
   "cell_type": "markdown",
   "source": [
    "## Введение в обработку естественного языка\n",
    "### Урок 1. Обработка текста\n",
    "\n",
    "\n",
    "Осуществим предобработку данных с Твиттера, чтобы отчищенный данные в дальнейшем использовать для задачи классификации. Данный датасет содержит негативные (label = 1) и нейтральные (label = 0) высказывания.\n",
    "Для работы объединим train_df и test_df.\n",
    "\n",
    "Задания:\n",
    "\n",
    "1) Удалим @user из всех твитов с помощью паттерна \"@[\\w]*\". Для этого создадим функцию: \n",
    " - для того, чтобы найти все вхождения паттерна в тексте, необходимо использовать re.findall(pattern, input_txt)\n",
    " - для для замены @user на пробел, необходимо использовать re.sub()\n",
    "\n",
    "2) Изменим регистр твитов на нижний с помощью .lower().\n",
    "\n",
    "3) Заменим сокращения с апострофами (пример: ain't, can't) на пробел, используя apostrophe_dict. Для этого необходимо сделать функцию: для каждого слова в тексте проверить (for word in text.split()), если слово есть в словаре apostrophe_dict в качестве ключа (сокращенного слова), то заменить ключ на значение (полную версию слова).\n",
    "\n",
    "4) Заменим сокращения на их полные формы, используя short_word_dict. Для этого воспользуемся функцией, используемой в предыдущем пункте.\n",
    "\n",
    "5) Заменим эмотиконы (пример: \":)\" = \"happy\") на пробелы, используя emoticon_dict. Для этого воспользуемся функцией, используемой в предыдущем пункте.\n",
    "\n",
    "6) Заменим пунктуацию на пробелы, используя re.sub() и паттерн r'[^\\w\\s]'.\n",
    "\n",
    "7) Заменим спец. символы на пробелы, используя re.sub() и паттерн r'[^a-zA-Z0-9]'.\n",
    "\n",
    "8) Заменим числа на пробелы, используя re.sub() и паттерн r'[^a-zA-Z]'.\n",
    "\n",
    "9) Удалим из текста слова длиной в 1 символ, используя ' '.join([w for w in x.split() if len(w)>1]).\n",
    "\n",
    "10) Поделим твиты на токены с помощью nltk.tokenize.word_tokenize, создав новый столбец 'tweet_token'.\n",
    "\n",
    "11) Удалим стоп-слова из токенов, используя nltk.corpus.stopwords. Создадим столбец 'tweet_token_filtered' без стоп-слов.\n",
    "\n",
    "12) Применим стемминг к токенам с помощью nltk.stem.PorterStemmer. Создадим столбец 'tweet_stemmed' после применения стемминга.\n",
    "\n",
    "13) Применим лемматизацию к токенам с помощью nltk.stem.wordnet.WordNetLemmatizer. Создадим столбец 'tweet_lemmatized' после применения лемматизации.\n",
    "\n",
    "14) Сохраним результат предобработки в pickle-файл.\n"
   ],
   "metadata": {
    "collapsed": false
   },
   "id": "a961aa9114485d8e"
  },
  {
   "cell_type": "code",
   "execution_count": null,
   "id": "initial_id",
   "metadata": {
    "collapsed": true
   },
   "outputs": [],
   "source": [
    "import pandas as pd\n",
    "import re\n",
    "import nltk\n",
    "import warnings \n",
    "import os\n",
    "from tqdm import tqdm\n",
    "\n",
    "from inc.dicts import apostrophe_words, short_words, emoji\n",
    "from inc.constants import STORAGE_PATH,INPUT_PATH\n",
    "\n",
    "tqdm.pandas()\n",
    "warnings.filterwarnings(\"ignore\", category=DeprecationWarning)\n",
    "nltk.download('punkt')"
   ]
  },
  {
   "cell_type": "code",
   "execution_count": 39,
   "outputs": [],
   "source": [
    "TRAIN_PATH = os.path.join(INPUT_PATH,'lesson_1/train_tweets.csv')\n",
    "TEST_PATH = os.path.join(INPUT_PATH,'lesson_1/test_tweets.csv')\n",
    "PIKLE_PATH = os.path.join(STORAGE_PATH, 'lesson_1.pkl')"
   ],
   "metadata": {
    "collapsed": false,
    "ExecuteTime": {
     "end_time": "2023-12-09T20:45:04.661109801Z",
     "start_time": "2023-12-09T20:45:04.339337491Z"
    }
   },
   "id": "6b8ba93bf8a50d8"
  },
  {
   "cell_type": "code",
   "execution_count": 8,
   "outputs": [],
   "source": [
    "train_df = pd.read_csv(TRAIN_PATH)\n",
    "test_df = pd.read_csv(TEST_PATH)"
   ],
   "metadata": {
    "collapsed": false,
    "ExecuteTime": {
     "end_time": "2023-12-09T20:20:53.194585852Z",
     "start_time": "2023-12-09T20:20:53.090575903Z"
    }
   },
   "id": "b62f17da09007efb"
  },
  {
   "cell_type": "code",
   "execution_count": 9,
   "outputs": [
    {
     "data": {
      "text/plain": "   id  label                                              tweet\n0   1      0   @user when a father is dysfunctional and is s...\n1   2      0  @user @user thanks for #lyft credit i can't us...\n2   3      0                                bihday your majesty\n3   4      0  #model   i love u take with u all the time in ...\n4   5      0             factsguide: society now    #motivation",
      "text/html": "<div>\n<style scoped>\n    .dataframe tbody tr th:only-of-type {\n        vertical-align: middle;\n    }\n\n    .dataframe tbody tr th {\n        vertical-align: top;\n    }\n\n    .dataframe thead th {\n        text-align: right;\n    }\n</style>\n<table border=\"1\" class=\"dataframe\">\n  <thead>\n    <tr style=\"text-align: right;\">\n      <th></th>\n      <th>id</th>\n      <th>label</th>\n      <th>tweet</th>\n    </tr>\n  </thead>\n  <tbody>\n    <tr>\n      <th>0</th>\n      <td>1</td>\n      <td>0</td>\n      <td>@user when a father is dysfunctional and is s...</td>\n    </tr>\n    <tr>\n      <th>1</th>\n      <td>2</td>\n      <td>0</td>\n      <td>@user @user thanks for #lyft credit i can't us...</td>\n    </tr>\n    <tr>\n      <th>2</th>\n      <td>3</td>\n      <td>0</td>\n      <td>bihday your majesty</td>\n    </tr>\n    <tr>\n      <th>3</th>\n      <td>4</td>\n      <td>0</td>\n      <td>#model   i love u take with u all the time in ...</td>\n    </tr>\n    <tr>\n      <th>4</th>\n      <td>5</td>\n      <td>0</td>\n      <td>factsguide: society now    #motivation</td>\n    </tr>\n  </tbody>\n</table>\n</div>"
     },
     "execution_count": 9,
     "metadata": {},
     "output_type": "execute_result"
    }
   ],
   "source": [
    "train_df.head()"
   ],
   "metadata": {
    "collapsed": false,
    "ExecuteTime": {
     "end_time": "2023-12-09T20:20:57.055602799Z",
     "start_time": "2023-12-09T20:20:57.034032316Z"
    }
   },
   "id": "6040fa0e1af33c7a"
  },
  {
   "cell_type": "code",
   "execution_count": 10,
   "outputs": [
    {
     "data": {
      "text/plain": "      id                                              tweet\n0  31963  #studiolife #aislife #requires #passion #dedic...\n1  31964   @user #white #supremacists want everyone to s...\n2  31965  safe ways to heal your #acne!!    #altwaystohe...\n3  31966  is the hp and the cursed child book up for res...\n4  31967    3rd #bihday to my amazing, hilarious #nephew...",
      "text/html": "<div>\n<style scoped>\n    .dataframe tbody tr th:only-of-type {\n        vertical-align: middle;\n    }\n\n    .dataframe tbody tr th {\n        vertical-align: top;\n    }\n\n    .dataframe thead th {\n        text-align: right;\n    }\n</style>\n<table border=\"1\" class=\"dataframe\">\n  <thead>\n    <tr style=\"text-align: right;\">\n      <th></th>\n      <th>id</th>\n      <th>tweet</th>\n    </tr>\n  </thead>\n  <tbody>\n    <tr>\n      <th>0</th>\n      <td>31963</td>\n      <td>#studiolife #aislife #requires #passion #dedic...</td>\n    </tr>\n    <tr>\n      <th>1</th>\n      <td>31964</td>\n      <td>@user #white #supremacists want everyone to s...</td>\n    </tr>\n    <tr>\n      <th>2</th>\n      <td>31965</td>\n      <td>safe ways to heal your #acne!!    #altwaystohe...</td>\n    </tr>\n    <tr>\n      <th>3</th>\n      <td>31966</td>\n      <td>is the hp and the cursed child book up for res...</td>\n    </tr>\n    <tr>\n      <th>4</th>\n      <td>31967</td>\n      <td>3rd #bihday to my amazing, hilarious #nephew...</td>\n    </tr>\n  </tbody>\n</table>\n</div>"
     },
     "execution_count": 10,
     "metadata": {},
     "output_type": "execute_result"
    }
   ],
   "source": [
    "test_df.head()"
   ],
   "metadata": {
    "collapsed": false,
    "ExecuteTime": {
     "end_time": "2023-12-09T20:20:58.966668651Z",
     "start_time": "2023-12-09T20:20:58.945410149Z"
    }
   },
   "id": "2fbe33af0476a63a"
  },
  {
   "cell_type": "code",
   "execution_count": 16,
   "outputs": [
    {
     "data": {
      "text/plain": "   id  label                                              tweet\n0   1    0.0   @user when a father is dysfunctional and is s...\n1   2    0.0  @user @user thanks for #lyft credit i can't us...\n2   3    0.0                                bihday your majesty\n3   4    0.0  #model   i love u take with u all the time in ...\n4   5    0.0             factsguide: society now    #motivation",
      "text/html": "<div>\n<style scoped>\n    .dataframe tbody tr th:only-of-type {\n        vertical-align: middle;\n    }\n\n    .dataframe tbody tr th {\n        vertical-align: top;\n    }\n\n    .dataframe thead th {\n        text-align: right;\n    }\n</style>\n<table border=\"1\" class=\"dataframe\">\n  <thead>\n    <tr style=\"text-align: right;\">\n      <th></th>\n      <th>id</th>\n      <th>label</th>\n      <th>tweet</th>\n    </tr>\n  </thead>\n  <tbody>\n    <tr>\n      <th>0</th>\n      <td>1</td>\n      <td>0.0</td>\n      <td>@user when a father is dysfunctional and is s...</td>\n    </tr>\n    <tr>\n      <th>1</th>\n      <td>2</td>\n      <td>0.0</td>\n      <td>@user @user thanks for #lyft credit i can't us...</td>\n    </tr>\n    <tr>\n      <th>2</th>\n      <td>3</td>\n      <td>0.0</td>\n      <td>bihday your majesty</td>\n    </tr>\n    <tr>\n      <th>3</th>\n      <td>4</td>\n      <td>0.0</td>\n      <td>#model   i love u take with u all the time in ...</td>\n    </tr>\n    <tr>\n      <th>4</th>\n      <td>5</td>\n      <td>0.0</td>\n      <td>factsguide: society now    #motivation</td>\n    </tr>\n  </tbody>\n</table>\n</div>"
     },
     "execution_count": 16,
     "metadata": {},
     "output_type": "execute_result"
    }
   ],
   "source": [
    "df = pd.concat([train_df, test_df], ignore_index=True)\n",
    "df.head()"
   ],
   "metadata": {
    "collapsed": false,
    "ExecuteTime": {
     "end_time": "2023-12-09T20:24:44.332566435Z",
     "start_time": "2023-12-09T20:24:44.306953664Z"
    }
   },
   "id": "3588abf94f1dd7ae"
  },
  {
   "cell_type": "code",
   "execution_count": 17,
   "outputs": [],
   "source": [
    "# Удалим @user из всех твитов с помощью паттерна \"@[\\w]*\". Для этого создадим функцию:\n",
    "def remove_user_txt(cell):\n",
    "    return re.sub(r'@[\\w]*','', cell)"
   ],
   "metadata": {
    "collapsed": false,
    "ExecuteTime": {
     "end_time": "2023-12-09T20:27:03.189432195Z",
     "start_time": "2023-12-09T20:27:03.113580394Z"
    }
   },
   "id": "b6d941d2bcb40e03"
  },
  {
   "cell_type": "code",
   "execution_count": 18,
   "outputs": [],
   "source": [
    "df['tweet2'] = df.tweet.apply(remove_user_txt)"
   ],
   "metadata": {
    "collapsed": false,
    "ExecuteTime": {
     "end_time": "2023-12-09T20:27:31.727642139Z",
     "start_time": "2023-12-09T20:27:30.871636116Z"
    }
   },
   "id": "b7d8d41beb39d485"
  },
  {
   "cell_type": "code",
   "execution_count": 19,
   "outputs": [
    {
     "data": {
      "text/plain": "   id  label                                              tweet  \\\n0   1    0.0   @user when a father is dysfunctional and is s...   \n1   2    0.0  @user @user thanks for #lyft credit i can't us...   \n2   3    0.0                                bihday your majesty   \n3   4    0.0  #model   i love u take with u all the time in ...   \n4   5    0.0             factsguide: society now    #motivation   \n\n                                              tweet2  \n0    when a father is dysfunctional and is so sel...  \n1    thanks for #lyft credit i can't use cause th...  \n2                                bihday your majesty  \n3  #model   i love u take with u all the time in ...  \n4             factsguide: society now    #motivation  ",
      "text/html": "<div>\n<style scoped>\n    .dataframe tbody tr th:only-of-type {\n        vertical-align: middle;\n    }\n\n    .dataframe tbody tr th {\n        vertical-align: top;\n    }\n\n    .dataframe thead th {\n        text-align: right;\n    }\n</style>\n<table border=\"1\" class=\"dataframe\">\n  <thead>\n    <tr style=\"text-align: right;\">\n      <th></th>\n      <th>id</th>\n      <th>label</th>\n      <th>tweet</th>\n      <th>tweet2</th>\n    </tr>\n  </thead>\n  <tbody>\n    <tr>\n      <th>0</th>\n      <td>1</td>\n      <td>0.0</td>\n      <td>@user when a father is dysfunctional and is s...</td>\n      <td>when a father is dysfunctional and is so sel...</td>\n    </tr>\n    <tr>\n      <th>1</th>\n      <td>2</td>\n      <td>0.0</td>\n      <td>@user @user thanks for #lyft credit i can't us...</td>\n      <td>thanks for #lyft credit i can't use cause th...</td>\n    </tr>\n    <tr>\n      <th>2</th>\n      <td>3</td>\n      <td>0.0</td>\n      <td>bihday your majesty</td>\n      <td>bihday your majesty</td>\n    </tr>\n    <tr>\n      <th>3</th>\n      <td>4</td>\n      <td>0.0</td>\n      <td>#model   i love u take with u all the time in ...</td>\n      <td>#model   i love u take with u all the time in ...</td>\n    </tr>\n    <tr>\n      <th>4</th>\n      <td>5</td>\n      <td>0.0</td>\n      <td>factsguide: society now    #motivation</td>\n      <td>factsguide: society now    #motivation</td>\n    </tr>\n  </tbody>\n</table>\n</div>"
     },
     "execution_count": 19,
     "metadata": {},
     "output_type": "execute_result"
    }
   ],
   "source": [
    "df.head()"
   ],
   "metadata": {
    "collapsed": false,
    "ExecuteTime": {
     "end_time": "2023-12-09T20:27:41.683429545Z",
     "start_time": "2023-12-09T20:27:41.460385902Z"
    }
   },
   "id": "cfd997158036e2"
  },
  {
   "cell_type": "code",
   "execution_count": 21,
   "outputs": [
    {
     "data": {
      "text/plain": "   id  label                                              tweet  \\\n0   1    0.0   @user when a father is dysfunctional and is s...   \n1   2    0.0  @user @user thanks for #lyft credit i can't us...   \n2   3    0.0                                bihday your majesty   \n3   4    0.0  #model   i love u take with u all the time in ...   \n4   5    0.0             factsguide: society now    #motivation   \n\n                                              tweet2  \n0    when a father is dysfunctional and is so sel...  \n1    thanks for #lyft credit i can't use cause th...  \n2                                bihday your majesty  \n3  #model   i love u take with u all the time in ...  \n4             factsguide: society now    #motivation  ",
      "text/html": "<div>\n<style scoped>\n    .dataframe tbody tr th:only-of-type {\n        vertical-align: middle;\n    }\n\n    .dataframe tbody tr th {\n        vertical-align: top;\n    }\n\n    .dataframe thead th {\n        text-align: right;\n    }\n</style>\n<table border=\"1\" class=\"dataframe\">\n  <thead>\n    <tr style=\"text-align: right;\">\n      <th></th>\n      <th>id</th>\n      <th>label</th>\n      <th>tweet</th>\n      <th>tweet2</th>\n    </tr>\n  </thead>\n  <tbody>\n    <tr>\n      <th>0</th>\n      <td>1</td>\n      <td>0.0</td>\n      <td>@user when a father is dysfunctional and is s...</td>\n      <td>when a father is dysfunctional and is so sel...</td>\n    </tr>\n    <tr>\n      <th>1</th>\n      <td>2</td>\n      <td>0.0</td>\n      <td>@user @user thanks for #lyft credit i can't us...</td>\n      <td>thanks for #lyft credit i can't use cause th...</td>\n    </tr>\n    <tr>\n      <th>2</th>\n      <td>3</td>\n      <td>0.0</td>\n      <td>bihday your majesty</td>\n      <td>bihday your majesty</td>\n    </tr>\n    <tr>\n      <th>3</th>\n      <td>4</td>\n      <td>0.0</td>\n      <td>#model   i love u take with u all the time in ...</td>\n      <td>#model   i love u take with u all the time in ...</td>\n    </tr>\n    <tr>\n      <th>4</th>\n      <td>5</td>\n      <td>0.0</td>\n      <td>factsguide: society now    #motivation</td>\n      <td>factsguide: society now    #motivation</td>\n    </tr>\n  </tbody>\n</table>\n</div>"
     },
     "execution_count": 21,
     "metadata": {},
     "output_type": "execute_result"
    }
   ],
   "source": [
    "# Перевод в нижний регистр\n",
    "df['tweet2'] = df.tweet2.apply(lambda x: x.lower())\n",
    "df.head()"
   ],
   "metadata": {
    "collapsed": false,
    "ExecuteTime": {
     "end_time": "2023-12-09T20:28:50.256922878Z",
     "start_time": "2023-12-09T20:28:50.207836233Z"
    }
   },
   "id": "6e742644e9307e1"
  },
  {
   "cell_type": "code",
   "execution_count": 22,
   "outputs": [],
   "source": [
    "# Заменим сокращения с апострофами\n",
    "def replace_dict(cell, dictionary):\n",
    "    def replace_word(word):\n",
    "        return dictionary.get(word, word)\n",
    "    return \" \".join(replace_word(word) for word in cell.split())"
   ],
   "metadata": {
    "collapsed": false,
    "ExecuteTime": {
     "end_time": "2023-12-09T20:32:03.394052505Z",
     "start_time": "2023-12-09T20:32:03.338132077Z"
    }
   },
   "id": "220909e31b4264bc"
  },
  {
   "cell_type": "code",
   "execution_count": 23,
   "outputs": [
    {
     "data": {
      "text/plain": "   id  label                                              tweet  \\\n0   1    0.0   @user when a father is dysfunctional and is s...   \n1   2    0.0  @user @user thanks for #lyft credit i can't us...   \n2   3    0.0                                bihday your majesty   \n3   4    0.0  #model   i love u take with u all the time in ...   \n4   5    0.0             factsguide: society now    #motivation   \n\n                                              tweet2  \n0  when a father is dysfunctional and is so selfi...  \n1  thanks for #lyft credit i cannot use cause the...  \n2                                bihday your majesty  \n3  #model i love u take with u all the time in ur...  \n4                factsguide: society now #motivation  ",
      "text/html": "<div>\n<style scoped>\n    .dataframe tbody tr th:only-of-type {\n        vertical-align: middle;\n    }\n\n    .dataframe tbody tr th {\n        vertical-align: top;\n    }\n\n    .dataframe thead th {\n        text-align: right;\n    }\n</style>\n<table border=\"1\" class=\"dataframe\">\n  <thead>\n    <tr style=\"text-align: right;\">\n      <th></th>\n      <th>id</th>\n      <th>label</th>\n      <th>tweet</th>\n      <th>tweet2</th>\n    </tr>\n  </thead>\n  <tbody>\n    <tr>\n      <th>0</th>\n      <td>1</td>\n      <td>0.0</td>\n      <td>@user when a father is dysfunctional and is s...</td>\n      <td>when a father is dysfunctional and is so selfi...</td>\n    </tr>\n    <tr>\n      <th>1</th>\n      <td>2</td>\n      <td>0.0</td>\n      <td>@user @user thanks for #lyft credit i can't us...</td>\n      <td>thanks for #lyft credit i cannot use cause the...</td>\n    </tr>\n    <tr>\n      <th>2</th>\n      <td>3</td>\n      <td>0.0</td>\n      <td>bihday your majesty</td>\n      <td>bihday your majesty</td>\n    </tr>\n    <tr>\n      <th>3</th>\n      <td>4</td>\n      <td>0.0</td>\n      <td>#model   i love u take with u all the time in ...</td>\n      <td>#model i love u take with u all the time in ur...</td>\n    </tr>\n    <tr>\n      <th>4</th>\n      <td>5</td>\n      <td>0.0</td>\n      <td>factsguide: society now    #motivation</td>\n      <td>factsguide: society now #motivation</td>\n    </tr>\n  </tbody>\n</table>\n</div>"
     },
     "execution_count": 23,
     "metadata": {},
     "output_type": "execute_result"
    }
   ],
   "source": [
    "df['tweet2'] = df.tweet2.apply(lambda x: replace_dict(x, apostrophe_words))\n",
    "df.head()"
   ],
   "metadata": {
    "collapsed": false,
    "ExecuteTime": {
     "end_time": "2023-12-09T20:32:48.514339789Z",
     "start_time": "2023-12-09T20:32:48.269420666Z"
    }
   },
   "id": "f3b632c81e1ea43f"
  },
  {
   "cell_type": "code",
   "execution_count": 24,
   "outputs": [
    {
     "data": {
      "text/plain": "   id  label                                              tweet  \\\n0   1    0.0   @user when a father is dysfunctional and is s...   \n1   2    0.0  @user @user thanks for #lyft credit i can't us...   \n2   3    0.0                                bihday your majesty   \n3   4    0.0  #model   i love u take with u all the time in ...   \n4   5    0.0             factsguide: society now    #motivation   \n\n                                              tweet2  \n0  when a father is dysfunctional and is so selfi...  \n1  thanks for #lyft credit i cannot use cause the...  \n2                                bihday your majesty  \n3  #model i love you take with you all the time i...  \n4                factsguide: society now #motivation  ",
      "text/html": "<div>\n<style scoped>\n    .dataframe tbody tr th:only-of-type {\n        vertical-align: middle;\n    }\n\n    .dataframe tbody tr th {\n        vertical-align: top;\n    }\n\n    .dataframe thead th {\n        text-align: right;\n    }\n</style>\n<table border=\"1\" class=\"dataframe\">\n  <thead>\n    <tr style=\"text-align: right;\">\n      <th></th>\n      <th>id</th>\n      <th>label</th>\n      <th>tweet</th>\n      <th>tweet2</th>\n    </tr>\n  </thead>\n  <tbody>\n    <tr>\n      <th>0</th>\n      <td>1</td>\n      <td>0.0</td>\n      <td>@user when a father is dysfunctional and is s...</td>\n      <td>when a father is dysfunctional and is so selfi...</td>\n    </tr>\n    <tr>\n      <th>1</th>\n      <td>2</td>\n      <td>0.0</td>\n      <td>@user @user thanks for #lyft credit i can't us...</td>\n      <td>thanks for #lyft credit i cannot use cause the...</td>\n    </tr>\n    <tr>\n      <th>2</th>\n      <td>3</td>\n      <td>0.0</td>\n      <td>bihday your majesty</td>\n      <td>bihday your majesty</td>\n    </tr>\n    <tr>\n      <th>3</th>\n      <td>4</td>\n      <td>0.0</td>\n      <td>#model   i love u take with u all the time in ...</td>\n      <td>#model i love you take with you all the time i...</td>\n    </tr>\n    <tr>\n      <th>4</th>\n      <td>5</td>\n      <td>0.0</td>\n      <td>factsguide: society now    #motivation</td>\n      <td>factsguide: society now #motivation</td>\n    </tr>\n  </tbody>\n</table>\n</div>"
     },
     "execution_count": 24,
     "metadata": {},
     "output_type": "execute_result"
    }
   ],
   "source": [
    "# Заменим сокращения на их полные формы\n",
    "df['tweet2'] = df.tweet2.apply(lambda x: replace_dict(x, short_words))\n",
    "df.head()"
   ],
   "metadata": {
    "collapsed": false,
    "ExecuteTime": {
     "end_time": "2023-12-09T20:33:27.223555155Z",
     "start_time": "2023-12-09T20:33:26.624415071Z"
    }
   },
   "id": "81a4a8a6f8538500"
  },
  {
   "cell_type": "code",
   "execution_count": 25,
   "outputs": [
    {
     "data": {
      "text/plain": "   id  label                                              tweet  \\\n0   1    0.0   @user when a father is dysfunctional and is s...   \n1   2    0.0  @user @user thanks for #lyft credit i can't us...   \n2   3    0.0                                bihday your majesty   \n3   4    0.0  #model   i love u take with u all the time in ...   \n4   5    0.0             factsguide: society now    #motivation   \n\n                                              tweet2  \n0  when a father is dysfunctional and is so selfi...  \n1  thanks for #lyft credit i cannot use cause the...  \n2                                bihday your majesty  \n3  #model i love you take with you all the time i...  \n4                factsguide: society now #motivation  ",
      "text/html": "<div>\n<style scoped>\n    .dataframe tbody tr th:only-of-type {\n        vertical-align: middle;\n    }\n\n    .dataframe tbody tr th {\n        vertical-align: top;\n    }\n\n    .dataframe thead th {\n        text-align: right;\n    }\n</style>\n<table border=\"1\" class=\"dataframe\">\n  <thead>\n    <tr style=\"text-align: right;\">\n      <th></th>\n      <th>id</th>\n      <th>label</th>\n      <th>tweet</th>\n      <th>tweet2</th>\n    </tr>\n  </thead>\n  <tbody>\n    <tr>\n      <th>0</th>\n      <td>1</td>\n      <td>0.0</td>\n      <td>@user when a father is dysfunctional and is s...</td>\n      <td>when a father is dysfunctional and is so selfi...</td>\n    </tr>\n    <tr>\n      <th>1</th>\n      <td>2</td>\n      <td>0.0</td>\n      <td>@user @user thanks for #lyft credit i can't us...</td>\n      <td>thanks for #lyft credit i cannot use cause the...</td>\n    </tr>\n    <tr>\n      <th>2</th>\n      <td>3</td>\n      <td>0.0</td>\n      <td>bihday your majesty</td>\n      <td>bihday your majesty</td>\n    </tr>\n    <tr>\n      <th>3</th>\n      <td>4</td>\n      <td>0.0</td>\n      <td>#model   i love u take with u all the time in ...</td>\n      <td>#model i love you take with you all the time i...</td>\n    </tr>\n    <tr>\n      <th>4</th>\n      <td>5</td>\n      <td>0.0</td>\n      <td>factsguide: society now    #motivation</td>\n      <td>factsguide: society now #motivation</td>\n    </tr>\n  </tbody>\n</table>\n</div>"
     },
     "execution_count": 25,
     "metadata": {},
     "output_type": "execute_result"
    }
   ],
   "source": [
    "# Заменим эмотиконы (пример: \":)\" = \"happy\") на пробелы\n",
    "df['tweet2'] = df.tweet2.apply(lambda x: replace_dict(x, emoji))\n",
    "df.head()"
   ],
   "metadata": {
    "collapsed": false,
    "ExecuteTime": {
     "end_time": "2023-12-09T20:34:36.746137721Z",
     "start_time": "2023-12-09T20:34:36.483889661Z"
    }
   },
   "id": "81b8bcf848a557a8"
  },
  {
   "cell_type": "code",
   "execution_count": 26,
   "outputs": [
    {
     "data": {
      "text/plain": "   id  label                                              tweet  \\\n0   1    0.0   @user when a father is dysfunctional and is s...   \n1   2    0.0  @user @user thanks for #lyft credit i can't us...   \n2   3    0.0                                bihday your majesty   \n3   4    0.0  #model   i love u take with u all the time in ...   \n4   5    0.0             factsguide: society now    #motivation   \n\n                                              tweet2  \n0  when a father is dysfunctional and is so selfi...  \n1  thanks for  lyft credit i cannot use cause the...  \n2                                bihday your majesty  \n3   model i love you take with you all the time i...  \n4                factsguide  society now  motivation  ",
      "text/html": "<div>\n<style scoped>\n    .dataframe tbody tr th:only-of-type {\n        vertical-align: middle;\n    }\n\n    .dataframe tbody tr th {\n        vertical-align: top;\n    }\n\n    .dataframe thead th {\n        text-align: right;\n    }\n</style>\n<table border=\"1\" class=\"dataframe\">\n  <thead>\n    <tr style=\"text-align: right;\">\n      <th></th>\n      <th>id</th>\n      <th>label</th>\n      <th>tweet</th>\n      <th>tweet2</th>\n    </tr>\n  </thead>\n  <tbody>\n    <tr>\n      <th>0</th>\n      <td>1</td>\n      <td>0.0</td>\n      <td>@user when a father is dysfunctional and is s...</td>\n      <td>when a father is dysfunctional and is so selfi...</td>\n    </tr>\n    <tr>\n      <th>1</th>\n      <td>2</td>\n      <td>0.0</td>\n      <td>@user @user thanks for #lyft credit i can't us...</td>\n      <td>thanks for  lyft credit i cannot use cause the...</td>\n    </tr>\n    <tr>\n      <th>2</th>\n      <td>3</td>\n      <td>0.0</td>\n      <td>bihday your majesty</td>\n      <td>bihday your majesty</td>\n    </tr>\n    <tr>\n      <th>3</th>\n      <td>4</td>\n      <td>0.0</td>\n      <td>#model   i love u take with u all the time in ...</td>\n      <td>model i love you take with you all the time i...</td>\n    </tr>\n    <tr>\n      <th>4</th>\n      <td>5</td>\n      <td>0.0</td>\n      <td>factsguide: society now    #motivation</td>\n      <td>factsguide  society now  motivation</td>\n    </tr>\n  </tbody>\n</table>\n</div>"
     },
     "execution_count": 26,
     "metadata": {},
     "output_type": "execute_result"
    }
   ],
   "source": [
    "# Заменим пунктуацию на пробелы, используя re.sub() и паттерн r'[^\\w\\s]'\n",
    "df['tweet2'] = df.tweet2.apply(lambda x: re.sub(r'[^\\w\\s]',' ', x))\n",
    "df.head()"
   ],
   "metadata": {
    "collapsed": false,
    "ExecuteTime": {
     "end_time": "2023-12-09T20:35:15.633149993Z",
     "start_time": "2023-12-09T20:35:15.411052635Z"
    }
   },
   "id": "d466990e99487713"
  },
  {
   "cell_type": "code",
   "execution_count": 27,
   "outputs": [],
   "source": [
    "# Заменим спец. символы на пробелы, используя re.sub() и паттерн r'[^a-zA-Z0-9]'\n",
    "df['tweet2'] = df.tweet2.apply(lambda x: re.sub(r'[^a-zA-Z0-9]',' ', x))"
   ],
   "metadata": {
    "collapsed": false,
    "ExecuteTime": {
     "end_time": "2023-12-09T20:35:52.556873213Z",
     "start_time": "2023-12-09T20:35:52.203200578Z"
    }
   },
   "id": "155e349082790372"
  },
  {
   "cell_type": "code",
   "execution_count": 28,
   "outputs": [],
   "source": [
    "# Заменим числа на пробелы, используя re.sub() и паттерн r'[^a-zA-Z]'\n",
    "df['tweet2'] = df.tweet2.apply(lambda x: re.sub(r'[^a-zA-Z]',' ', x))"
   ],
   "metadata": {
    "collapsed": false,
    "ExecuteTime": {
     "end_time": "2023-12-09T20:37:42.601245203Z",
     "start_time": "2023-12-09T20:37:39.139347692Z"
    }
   },
   "id": "280e474aab4ca116"
  },
  {
   "cell_type": "code",
   "execution_count": 29,
   "outputs": [],
   "source": [
    "# Удалим из текста слова длиной в 1 символ, используя ' '.join([w for w in x.split() if len(w)>1])\n",
    "df['tweet2'] = df.tweet2.apply(lambda x: ' '.join([w for w in x.split() if len(w)>1]))"
   ],
   "metadata": {
    "collapsed": false,
    "ExecuteTime": {
     "end_time": "2023-12-09T20:37:43.715993165Z",
     "start_time": "2023-12-09T20:37:42.297236943Z"
    }
   },
   "id": "cdf6a9396df9e4a1"
  },
  {
   "cell_type": "code",
   "execution_count": 32,
   "outputs": [],
   "source": [
    "# Поделим твиты на токены с помощью nltk.tokenize.word_tokenize, создав новый столбец 'tweet_token'.\n",
    "df['tweet_token'] = df.tweet2.apply(lambda x: nltk.word_tokenize(x))"
   ],
   "metadata": {
    "collapsed": false,
    "ExecuteTime": {
     "end_time": "2023-12-09T20:39:27.830038422Z",
     "start_time": "2023-12-09T20:39:16.668870643Z"
    }
   },
   "id": "716e922ae38aa520"
  },
  {
   "cell_type": "code",
   "execution_count": 35,
   "outputs": [
    {
     "name": "stderr",
     "output_type": "stream",
     "text": [
      "[nltk_data] Downloading package stopwords to /home/eugene/nltk_data...\n",
      "[nltk_data]   Package stopwords is already up-to-date!\n"
     ]
    },
    {
     "data": {
      "text/plain": "   id  label                                              tweet  \\\n0   1    0.0   @user when a father is dysfunctional and is s...   \n1   2    0.0  @user @user thanks for #lyft credit i can't us...   \n2   3    0.0                                bihday your majesty   \n3   4    0.0  #model   i love u take with u all the time in ...   \n4   5    0.0             factsguide: society now    #motivation   \n\n                                              tweet2  \\\n0  when father is dysfunctional and is so selfish...   \n1  thanks for lyft credit cannot use cause they d...   \n2                                bihday your majesty   \n3    model love you take with you all the time in ur   \n4                  factsguide society now motivation   \n\n                                         tweet_token  \\\n0  [when, father, is, dysfunctional, and, is, so,...   \n1  [thanks, for, lyft, credit, can, not, use, cau...   \n2                            [bihday, your, majesty]   \n3  [model, love, you, take, with, you, all, the, ...   \n4             [factsguide, society, now, motivation]   \n\n                                tweet_token_filtered  \n0  [father, dysfunctional, selfish, drags, kids, ...  \n1  [thanks, lyft, credit, use, cause, offer, whee...  \n2                                  [bihday, majesty]  \n3                      [model, love, take, time, ur]  \n4                  [factsguide, society, motivation]  ",
      "text/html": "<div>\n<style scoped>\n    .dataframe tbody tr th:only-of-type {\n        vertical-align: middle;\n    }\n\n    .dataframe tbody tr th {\n        vertical-align: top;\n    }\n\n    .dataframe thead th {\n        text-align: right;\n    }\n</style>\n<table border=\"1\" class=\"dataframe\">\n  <thead>\n    <tr style=\"text-align: right;\">\n      <th></th>\n      <th>id</th>\n      <th>label</th>\n      <th>tweet</th>\n      <th>tweet2</th>\n      <th>tweet_token</th>\n      <th>tweet_token_filtered</th>\n    </tr>\n  </thead>\n  <tbody>\n    <tr>\n      <th>0</th>\n      <td>1</td>\n      <td>0.0</td>\n      <td>@user when a father is dysfunctional and is s...</td>\n      <td>when father is dysfunctional and is so selfish...</td>\n      <td>[when, father, is, dysfunctional, and, is, so,...</td>\n      <td>[father, dysfunctional, selfish, drags, kids, ...</td>\n    </tr>\n    <tr>\n      <th>1</th>\n      <td>2</td>\n      <td>0.0</td>\n      <td>@user @user thanks for #lyft credit i can't us...</td>\n      <td>thanks for lyft credit cannot use cause they d...</td>\n      <td>[thanks, for, lyft, credit, can, not, use, cau...</td>\n      <td>[thanks, lyft, credit, use, cause, offer, whee...</td>\n    </tr>\n    <tr>\n      <th>2</th>\n      <td>3</td>\n      <td>0.0</td>\n      <td>bihday your majesty</td>\n      <td>bihday your majesty</td>\n      <td>[bihday, your, majesty]</td>\n      <td>[bihday, majesty]</td>\n    </tr>\n    <tr>\n      <th>3</th>\n      <td>4</td>\n      <td>0.0</td>\n      <td>#model   i love u take with u all the time in ...</td>\n      <td>model love you take with you all the time in ur</td>\n      <td>[model, love, you, take, with, you, all, the, ...</td>\n      <td>[model, love, take, time, ur]</td>\n    </tr>\n    <tr>\n      <th>4</th>\n      <td>5</td>\n      <td>0.0</td>\n      <td>factsguide: society now    #motivation</td>\n      <td>factsguide society now motivation</td>\n      <td>[factsguide, society, now, motivation]</td>\n      <td>[factsguide, society, motivation]</td>\n    </tr>\n  </tbody>\n</table>\n</div>"
     },
     "execution_count": 35,
     "metadata": {},
     "output_type": "execute_result"
    }
   ],
   "source": [
    "# Удалим стоп-слова из токенов, используя nltk.corpus.stopwords. Создадим столбец 'tweet_token_filtered' без стоп-слов.\n",
    "nltk.download('stopwords')\n",
    "stop_words = nltk.corpus.stopwords.words('english')\n",
    "df['tweet_token_filtered' ] = df.tweet_token.apply(lambda x: [w for w in x if w not in stop_words])\n",
    "df.head()"
   ],
   "metadata": {
    "collapsed": false,
    "ExecuteTime": {
     "end_time": "2023-12-09T20:40:03.558419992Z",
     "start_time": "2023-12-09T20:40:01.201524898Z"
    }
   },
   "id": "9e0a048a59194674"
  },
  {
   "cell_type": "code",
   "execution_count": 36,
   "outputs": [
    {
     "data": {
      "text/plain": "   id  label                                              tweet  \\\n0   1    0.0   @user when a father is dysfunctional and is s...   \n1   2    0.0  @user @user thanks for #lyft credit i can't us...   \n2   3    0.0                                bihday your majesty   \n3   4    0.0  #model   i love u take with u all the time in ...   \n4   5    0.0             factsguide: society now    #motivation   \n\n                                              tweet2  \\\n0  when father is dysfunctional and is so selfish...   \n1  thanks for lyft credit cannot use cause they d...   \n2                                bihday your majesty   \n3    model love you take with you all the time in ur   \n4                  factsguide society now motivation   \n\n                                         tweet_token  \\\n0  [when, father, is, dysfunctional, and, is, so,...   \n1  [thanks, for, lyft, credit, can, not, use, cau...   \n2                            [bihday, your, majesty]   \n3  [model, love, you, take, with, you, all, the, ...   \n4             [factsguide, society, now, motivation]   \n\n                                tweet_token_filtered  \\\n0  [father, dysfunctional, selfish, drags, kids, ...   \n1  [thanks, lyft, credit, use, cause, offer, whee...   \n2                                  [bihday, majesty]   \n3                      [model, love, take, time, ur]   \n4                  [factsguide, society, motivation]   \n\n                                       tweet_stemmed  \n0  [father, dysfunct, selfish, drag, kid, dysfunc...  \n1  [thank, lyft, credit, use, caus, offer, wheelc...  \n2                                  [bihday, majesti]  \n3                      [model, love, take, time, ur]  \n4                        [factsguid, societi, motiv]  ",
      "text/html": "<div>\n<style scoped>\n    .dataframe tbody tr th:only-of-type {\n        vertical-align: middle;\n    }\n\n    .dataframe tbody tr th {\n        vertical-align: top;\n    }\n\n    .dataframe thead th {\n        text-align: right;\n    }\n</style>\n<table border=\"1\" class=\"dataframe\">\n  <thead>\n    <tr style=\"text-align: right;\">\n      <th></th>\n      <th>id</th>\n      <th>label</th>\n      <th>tweet</th>\n      <th>tweet2</th>\n      <th>tweet_token</th>\n      <th>tweet_token_filtered</th>\n      <th>tweet_stemmed</th>\n    </tr>\n  </thead>\n  <tbody>\n    <tr>\n      <th>0</th>\n      <td>1</td>\n      <td>0.0</td>\n      <td>@user when a father is dysfunctional and is s...</td>\n      <td>when father is dysfunctional and is so selfish...</td>\n      <td>[when, father, is, dysfunctional, and, is, so,...</td>\n      <td>[father, dysfunctional, selfish, drags, kids, ...</td>\n      <td>[father, dysfunct, selfish, drag, kid, dysfunc...</td>\n    </tr>\n    <tr>\n      <th>1</th>\n      <td>2</td>\n      <td>0.0</td>\n      <td>@user @user thanks for #lyft credit i can't us...</td>\n      <td>thanks for lyft credit cannot use cause they d...</td>\n      <td>[thanks, for, lyft, credit, can, not, use, cau...</td>\n      <td>[thanks, lyft, credit, use, cause, offer, whee...</td>\n      <td>[thank, lyft, credit, use, caus, offer, wheelc...</td>\n    </tr>\n    <tr>\n      <th>2</th>\n      <td>3</td>\n      <td>0.0</td>\n      <td>bihday your majesty</td>\n      <td>bihday your majesty</td>\n      <td>[bihday, your, majesty]</td>\n      <td>[bihday, majesty]</td>\n      <td>[bihday, majesti]</td>\n    </tr>\n    <tr>\n      <th>3</th>\n      <td>4</td>\n      <td>0.0</td>\n      <td>#model   i love u take with u all the time in ...</td>\n      <td>model love you take with you all the time in ur</td>\n      <td>[model, love, you, take, with, you, all, the, ...</td>\n      <td>[model, love, take, time, ur]</td>\n      <td>[model, love, take, time, ur]</td>\n    </tr>\n    <tr>\n      <th>4</th>\n      <td>5</td>\n      <td>0.0</td>\n      <td>factsguide: society now    #motivation</td>\n      <td>factsguide society now motivation</td>\n      <td>[factsguide, society, now, motivation]</td>\n      <td>[factsguide, society, motivation]</td>\n      <td>[factsguid, societi, motiv]</td>\n    </tr>\n  </tbody>\n</table>\n</div>"
     },
     "execution_count": 36,
     "metadata": {},
     "output_type": "execute_result"
    }
   ],
   "source": [
    "# Применим стемминг к токенам с помощью nltk.stem.PorterStemmer. Создадим столбец 'tweet_stemmed' после применения стемминга.\n",
    "stemmer = nltk.stem.PorterStemmer()\n",
    "df['tweet_stemmed'] = df.tweet_token_filtered.apply(lambda x: [stemmer.stem(w) for w in x])\n",
    "df.head()"
   ],
   "metadata": {
    "collapsed": false,
    "ExecuteTime": {
     "end_time": "2023-12-09T20:40:58.771685285Z",
     "start_time": "2023-12-09T20:40:47.039728616Z"
    }
   },
   "id": "4085b5f38f8ee59"
  },
  {
   "cell_type": "code",
   "execution_count": 40,
   "outputs": [
    {
     "name": "stderr",
     "output_type": "stream",
     "text": [
      "[nltk_data] Downloading package omw-1.4 to /home/eugene/nltk_data...\n",
      "[nltk_data] Downloading package wordnet to /home/eugene/nltk_data...\n"
     ]
    },
    {
     "data": {
      "text/plain": "   id  label                                              tweet  \\\n0   1    0.0   @user when a father is dysfunctional and is s...   \n1   2    0.0  @user @user thanks for #lyft credit i can't us...   \n2   3    0.0                                bihday your majesty   \n3   4    0.0  #model   i love u take with u all the time in ...   \n4   5    0.0             factsguide: society now    #motivation   \n\n                                              tweet2  \\\n0  when father is dysfunctional and is so selfish...   \n1  thanks for lyft credit cannot use cause they d...   \n2                                bihday your majesty   \n3    model love you take with you all the time in ur   \n4                  factsguide society now motivation   \n\n                                         tweet_token  \\\n0  [when, father, is, dysfunctional, and, is, so,...   \n1  [thanks, for, lyft, credit, can, not, use, cau...   \n2                            [bihday, your, majesty]   \n3  [model, love, you, take, with, you, all, the, ...   \n4             [factsguide, society, now, motivation]   \n\n                                tweet_token_filtered  \\\n0  [father, dysfunctional, selfish, drags, kids, ...   \n1  [thanks, lyft, credit, use, cause, offer, whee...   \n2                                  [bihday, majesty]   \n3                      [model, love, take, time, ur]   \n4                  [factsguide, society, motivation]   \n\n                                       tweet_stemmed  \\\n0  [father, dysfunct, selfish, drag, kid, dysfunc...   \n1  [thank, lyft, credit, use, caus, offer, wheelc...   \n2                                  [bihday, majesti]   \n3                      [model, love, take, time, ur]   \n4                        [factsguid, societi, motiv]   \n\n                                    tweet_lemmatized  \n0  [father, dysfunctional, selfish, drag, kid, dy...  \n1  [thanks, lyft, credit, use, cause, offer, whee...  \n2                                  [bihday, majesty]  \n3                      [model, love, take, time, ur]  \n4                  [factsguide, society, motivation]  ",
      "text/html": "<div>\n<style scoped>\n    .dataframe tbody tr th:only-of-type {\n        vertical-align: middle;\n    }\n\n    .dataframe tbody tr th {\n        vertical-align: top;\n    }\n\n    .dataframe thead th {\n        text-align: right;\n    }\n</style>\n<table border=\"1\" class=\"dataframe\">\n  <thead>\n    <tr style=\"text-align: right;\">\n      <th></th>\n      <th>id</th>\n      <th>label</th>\n      <th>tweet</th>\n      <th>tweet2</th>\n      <th>tweet_token</th>\n      <th>tweet_token_filtered</th>\n      <th>tweet_stemmed</th>\n      <th>tweet_lemmatized</th>\n    </tr>\n  </thead>\n  <tbody>\n    <tr>\n      <th>0</th>\n      <td>1</td>\n      <td>0.0</td>\n      <td>@user when a father is dysfunctional and is s...</td>\n      <td>when father is dysfunctional and is so selfish...</td>\n      <td>[when, father, is, dysfunctional, and, is, so,...</td>\n      <td>[father, dysfunctional, selfish, drags, kids, ...</td>\n      <td>[father, dysfunct, selfish, drag, kid, dysfunc...</td>\n      <td>[father, dysfunctional, selfish, drag, kid, dy...</td>\n    </tr>\n    <tr>\n      <th>1</th>\n      <td>2</td>\n      <td>0.0</td>\n      <td>@user @user thanks for #lyft credit i can't us...</td>\n      <td>thanks for lyft credit cannot use cause they d...</td>\n      <td>[thanks, for, lyft, credit, can, not, use, cau...</td>\n      <td>[thanks, lyft, credit, use, cause, offer, whee...</td>\n      <td>[thank, lyft, credit, use, caus, offer, wheelc...</td>\n      <td>[thanks, lyft, credit, use, cause, offer, whee...</td>\n    </tr>\n    <tr>\n      <th>2</th>\n      <td>3</td>\n      <td>0.0</td>\n      <td>bihday your majesty</td>\n      <td>bihday your majesty</td>\n      <td>[bihday, your, majesty]</td>\n      <td>[bihday, majesty]</td>\n      <td>[bihday, majesti]</td>\n      <td>[bihday, majesty]</td>\n    </tr>\n    <tr>\n      <th>3</th>\n      <td>4</td>\n      <td>0.0</td>\n      <td>#model   i love u take with u all the time in ...</td>\n      <td>model love you take with you all the time in ur</td>\n      <td>[model, love, you, take, with, you, all, the, ...</td>\n      <td>[model, love, take, time, ur]</td>\n      <td>[model, love, take, time, ur]</td>\n      <td>[model, love, take, time, ur]</td>\n    </tr>\n    <tr>\n      <th>4</th>\n      <td>5</td>\n      <td>0.0</td>\n      <td>factsguide: society now    #motivation</td>\n      <td>factsguide society now motivation</td>\n      <td>[factsguide, society, now, motivation]</td>\n      <td>[factsguide, society, motivation]</td>\n      <td>[factsguid, societi, motiv]</td>\n      <td>[factsguide, society, motivation]</td>\n    </tr>\n  </tbody>\n</table>\n</div>"
     },
     "execution_count": 40,
     "metadata": {},
     "output_type": "execute_result"
    }
   ],
   "source": [
    "# Применим лемматизацию к токенам с помощью nltk.stem.wordnet.WordNetLemmatizer. Создадим столбец 'tweet_lemmatized' после применения лемматизации.\n",
    "nltk.download('omw-1.4')\n",
    "nltk.download('wordnet')\n",
    "\n",
    "lemmatizer = nltk.stem.wordnet.WordNetLemmatizer()\n",
    "df['tweet_lemmatized'] = df.tweet_token_filtered.apply(lambda x: [lemmatizer.lemmatize(w) for w in x])\n",
    "df.head()"
   ],
   "metadata": {
    "collapsed": false,
    "ExecuteTime": {
     "end_time": "2023-12-09T20:45:26.894194639Z",
     "start_time": "2023-12-09T20:45:15.986525331Z"
    }
   },
   "id": "f26e257fca05844a"
  },
  {
   "cell_type": "code",
   "execution_count": 41,
   "outputs": [],
   "source": [
    "# Сохраним результат предобработки в pickle-файл.\n",
    "df.to_pickle(PIKLE_PATH)"
   ],
   "metadata": {
    "collapsed": false,
    "ExecuteTime": {
     "end_time": "2023-12-09T20:45:32.113873832Z",
     "start_time": "2023-12-09T20:45:31.369449912Z"
    }
   },
   "id": "74434ff9ca59f58e"
  }
 ],
 "metadata": {
  "kernelspec": {
   "display_name": "Python 3",
   "language": "python",
   "name": "python3"
  },
  "language_info": {
   "codemirror_mode": {
    "name": "ipython",
    "version": 2
   },
   "file_extension": ".py",
   "mimetype": "text/x-python",
   "name": "python",
   "nbconvert_exporter": "python",
   "pygments_lexer": "ipython2",
   "version": "2.7.6"
  }
 },
 "nbformat": 4,
 "nbformat_minor": 5
}
