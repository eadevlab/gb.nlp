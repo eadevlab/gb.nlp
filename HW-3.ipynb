{
 "cells": [
  {
   "cell_type": "markdown",
   "source": [
    "## Введение в обработку естественного языка\n",
    "### Урок 3. Embedding word2vec fasttext\n",
    "\n",
    "На основе word2vec/fasttext реализовать метод поиска ближайших статей (на вход метода должен приходить запрос (какой-то вопрос) и количество вариантов вывода к примеру 5-ть, ваш метод должен возвращать 5-ть ближайших статей к этому запросу)\n",
    "Проверить насколько хорошо работают подходы"
   ],
   "metadata": {
    "collapsed": false
   },
   "id": "95f7796ee04eec4a"
  },
  {
   "cell_type": "code",
   "execution_count": 2,
   "id": "initial_id",
   "metadata": {
    "collapsed": true,
    "ExecuteTime": {
     "end_time": "2023-12-09T22:08:01.166318394Z",
     "start_time": "2023-12-09T22:08:01.058113632Z"
    }
   },
   "outputs": [],
   "source": [
    "import pandas as pd\n",
    "import string\n",
    "from pymorphy2 import MorphAnalyzer\n",
    "from stop_words import get_stop_words\n",
    "import annoy\n",
    "from gensim.models import Word2Vec, FastText\n",
    "import pickle\n",
    "import numpy as np\n",
    "from tqdm import tqdm_notebook\n",
    "import tqdm\n",
    "from inc.constants import INPUT_PATH\n",
    "import os"
   ]
  },
  {
   "cell_type": "code",
   "execution_count": 3,
   "outputs": [
    {
     "data": {
      "text/plain": "                                            url  \\\n0      https://lenta.ru/news/2018/12/14/cancer/   \n1      https://lenta.ru/news/2018/12/15/doping/   \n2  https://lenta.ru/news/2018/12/15/disneyland/   \n3       https://lenta.ru/news/2018/12/15/usa25/   \n4   https://lenta.ru/news/2018/12/15/integrity/   \n\n                                               title  \\\n0  Названы регионы России с самой высокой смертно...   \n1  Австрия не представила доказательств вины росс...   \n2       Обнаружено самое счастливое место на планете   \n3  В США раскрыли сумму расходов на расследование...   \n4  Хакеры рассказали о планах Великобритании зами...   \n\n                                                text        topic         tags  \n0  Вице-премьер по социальным вопросам Татьяна Го...       Россия     Общество  \n1  Австрийские правоохранительные органы не предс...        Спорт  Зимние виды  \n2  Сотрудники социальной сети Instagram проанализ...  Путешествия          Мир  \n3  С начала расследования российского вмешательст...          Мир     Политика  \n4  Хакерская группировка Anonymous опубликовала н...          Мир     Общество  ",
      "text/html": "<div>\n<style scoped>\n    .dataframe tbody tr th:only-of-type {\n        vertical-align: middle;\n    }\n\n    .dataframe tbody tr th {\n        vertical-align: top;\n    }\n\n    .dataframe thead th {\n        text-align: right;\n    }\n</style>\n<table border=\"1\" class=\"dataframe\">\n  <thead>\n    <tr style=\"text-align: right;\">\n      <th></th>\n      <th>url</th>\n      <th>title</th>\n      <th>text</th>\n      <th>topic</th>\n      <th>tags</th>\n    </tr>\n  </thead>\n  <tbody>\n    <tr>\n      <th>0</th>\n      <td>https://lenta.ru/news/2018/12/14/cancer/</td>\n      <td>Названы регионы России с самой высокой смертно...</td>\n      <td>Вице-премьер по социальным вопросам Татьяна Го...</td>\n      <td>Россия</td>\n      <td>Общество</td>\n    </tr>\n    <tr>\n      <th>1</th>\n      <td>https://lenta.ru/news/2018/12/15/doping/</td>\n      <td>Австрия не представила доказательств вины росс...</td>\n      <td>Австрийские правоохранительные органы не предс...</td>\n      <td>Спорт</td>\n      <td>Зимние виды</td>\n    </tr>\n    <tr>\n      <th>2</th>\n      <td>https://lenta.ru/news/2018/12/15/disneyland/</td>\n      <td>Обнаружено самое счастливое место на планете</td>\n      <td>Сотрудники социальной сети Instagram проанализ...</td>\n      <td>Путешествия</td>\n      <td>Мир</td>\n    </tr>\n    <tr>\n      <th>3</th>\n      <td>https://lenta.ru/news/2018/12/15/usa25/</td>\n      <td>В США раскрыли сумму расходов на расследование...</td>\n      <td>С начала расследования российского вмешательст...</td>\n      <td>Мир</td>\n      <td>Политика</td>\n    </tr>\n    <tr>\n      <th>4</th>\n      <td>https://lenta.ru/news/2018/12/15/integrity/</td>\n      <td>Хакеры рассказали о планах Великобритании зами...</td>\n      <td>Хакерская группировка Anonymous опубликовала н...</td>\n      <td>Мир</td>\n      <td>Общество</td>\n    </tr>\n  </tbody>\n</table>\n</div>"
     },
     "execution_count": 3,
     "metadata": {},
     "output_type": "execute_result"
    }
   ],
   "source": [
    "df = pd.read_csv(os.path.join(INPUT_PATH,'lesson-3','lenta-ru-news.csv.gz'))\n",
    "df.head()"
   ],
   "metadata": {
    "collapsed": false,
    "ExecuteTime": {
     "end_time": "2023-12-09T22:10:28.297188753Z",
     "start_time": "2023-12-09T22:09:16.656535041Z"
    }
   },
   "id": "9c8a54358273d916"
  },
  {
   "cell_type": "code",
   "execution_count": 19,
   "outputs": [],
   "source": [
    "txt_list = df.text.to_list()"
   ],
   "metadata": {
    "collapsed": false,
    "ExecuteTime": {
     "end_time": "2023-12-09T22:14:43.591359557Z",
     "start_time": "2023-12-09T22:14:43.575886937Z"
    }
   },
   "id": "f39ed33cc87c586b"
  },
  {
   "cell_type": "code",
   "execution_count": 4,
   "outputs": [],
   "source": [
    "def preprocess_txt(line, morpher):\n",
    "    spls = \"\".join(i for i in line.strip() if i not in exclude).split()\n",
    "    spls = [morpher.parse(i.lower())[0].normal_form for i in spls]\n",
    "    spls = [i for i in spls if i not in sw and i != \"\"]\n",
    "    return spls"
   ],
   "metadata": {
    "collapsed": false,
    "ExecuteTime": {
     "end_time": "2023-12-09T22:11:30.552206942Z",
     "start_time": "2023-12-09T22:11:30.506078298Z"
    }
   },
   "id": "93e7fd756eba7f85"
  },
  {
   "cell_type": "code",
   "execution_count": 10,
   "outputs": [],
   "source": [
    "sentences = []\n",
    "\n",
    "morpher = MorphAnalyzer()\n",
    "sw = set(get_stop_words(\"ru\"))\n",
    "exclude = set(string.punctuation)\n",
    "c = 0"
   ],
   "metadata": {
    "collapsed": false,
    "ExecuteTime": {
     "end_time": "2023-12-09T22:12:23.715298535Z",
     "start_time": "2023-12-09T22:12:23.566958188Z"
    }
   },
   "id": "3b4ae68495b110e2"
  },
  {
   "cell_type": "code",
   "execution_count": 20,
   "outputs": [],
   "source": [
    "for txt in txt_list:\n",
    "    spls = preprocess_txt(txt, morpher)\n",
    "    sentences.append(spls)\n",
    "    c += 1\n",
    "    if c > 1000:\n",
    "        break"
   ],
   "metadata": {
    "collapsed": false,
    "ExecuteTime": {
     "end_time": "2023-12-09T22:16:17.856850685Z",
     "start_time": "2023-12-09T22:14:45.961322384Z"
    }
   },
   "id": "577c8b81ad59f0d8"
  },
  {
   "cell_type": "code",
   "execution_count": 22,
   "outputs": [
    {
     "data": {
      "text/plain": "['вицепремьер',\n 'социальный',\n 'вопрос',\n 'татьяна',\n 'голиков',\n 'рассказать',\n 'регион',\n 'россия',\n 'зафиксировать',\n 'высокий']"
     },
     "execution_count": 22,
     "metadata": {},
     "output_type": "execute_result"
    }
   ],
   "source": [
    "sentences = [i for i in sentences if len(i) > 2]\n",
    "sentences[0][:10]"
   ],
   "metadata": {
    "collapsed": false,
    "ExecuteTime": {
     "end_time": "2023-12-09T22:16:18.098279019Z",
     "start_time": "2023-12-09T22:16:17.568425644Z"
    }
   },
   "id": "47b13bc37ddfffaf"
  },
  {
   "cell_type": "code",
   "execution_count": 24,
   "outputs": [],
   "source": [
    "modelW2V = Word2Vec(sentences=sentences, vector_size=300, window=5, min_count=2)"
   ],
   "metadata": {
    "collapsed": false,
    "ExecuteTime": {
     "end_time": "2023-12-09T22:17:11.658162441Z",
     "start_time": "2023-12-09T22:17:04.190224575Z"
    }
   },
   "id": "df43ccb673a0f7b8"
  },
  {
   "cell_type": "code",
   "execution_count": 25,
   "outputs": [
    {
     "data": {
      "text/plain": "True"
     },
     "execution_count": 25,
     "metadata": {},
     "output_type": "execute_result"
    }
   ],
   "source": [
    "w2v_index = annoy.AnnoyIndex(300 ,'angular')\n",
    "\n",
    "index_map = {}\n",
    "counter = 0\n",
    "\n",
    "for question in sentences:\n",
    "    n_w2v = 0\n",
    "    vector_w2v = np.zeros(300)\n",
    "    for word in question:\n",
    "        if word in modelW2V.wv:\n",
    "            vector_w2v += modelW2V.wv[word]\n",
    "            n_w2v += 1\n",
    "    if n_w2v > 0:\n",
    "        vector_w2v = vector_w2v / n_w2v\n",
    "    w2v_index.add_item(counter, vector_w2v)\n",
    "        \n",
    "    counter += 1\n",
    "    \n",
    "    if counter > 1000:\n",
    "        break\n",
    "\n",
    "w2v_index.build(10)"
   ],
   "metadata": {
    "collapsed": false,
    "ExecuteTime": {
     "end_time": "2023-12-09T22:17:14.328712077Z",
     "start_time": "2023-12-09T22:17:13.629404890Z"
    }
   },
   "id": "944521c2d480fd21"
  },
  {
   "cell_type": "code",
   "execution_count": 42,
   "outputs": [],
   "source": [
    "def get_response(question, morpher, index, model, index_map, num_question):\n",
    "    question = preprocess_txt(question, morpher)\n",
    "    vector = np.zeros(300)\n",
    "    norm = 0\n",
    "    for word in question:\n",
    "        if word in model.wv:\n",
    "            vector += model.wv[word]\n",
    "            norm += 1\n",
    "    if norm > 0:\n",
    "        vector = vector / norm\n",
    "    answers = index.get_nns_by_vector(vector, num_question, )\n",
    "    return [txt_list[i] for i in answers]"
   ],
   "metadata": {
    "collapsed": false,
    "ExecuteTime": {
     "end_time": "2023-12-09T22:20:05.946778505Z",
     "start_time": "2023-12-09T22:20:05.936644944Z"
    }
   },
   "id": "4e115a0d14c771c2"
  },
  {
   "cell_type": "code",
   "execution_count": 43,
   "outputs": [
    {
     "data": {
      "text/plain": "['Комментатор Дмитрий Губерниев сообщил, что иностранные федерации настаивают на том, чтобы Международный союз биатлонистов (IBU) отстранил российских биатлонистов от участия в Кубке мира. Его слова приводит «Матч ТВ». По словам журналиста, представители Чехии, Канады и США стараются поднять вопрос об отстранении Алексея Волкова, Антона Шипулина, Александра Логинова, Евгения Гараничева и Ирины Старых от международных соревнований. Губерниев выразил мнение, что временная дисквалификация чаще всего чревата более серьезными последствиями. Вечером 12 декабря в отель сборной России в австрийском Хохфильцене прибыла полиция. Как написал биатлонист Александр Логинов, их обвинили в махинациях с переливанием крови. В Австрии прием допинга является уголовным преступлением. Максимальное наказание за его употребление — три года тюрьмы. IBU принял решение не применять санкции к российским биатлонистам, заподозренным в допинговых махинациях. Все они продолжают выступление на этапах Кубка мира.']"
     },
     "execution_count": 43,
     "metadata": {},
     "output_type": "execute_result"
    }
   ],
   "source": [
    "TEXT = \"Международный союз\"\n",
    "get_response(TEXT, morpher, w2v_index, modelW2V, index_map, 1)"
   ],
   "metadata": {
    "collapsed": false,
    "ExecuteTime": {
     "end_time": "2023-12-09T22:20:07.508564Z",
     "start_time": "2023-12-09T22:20:07.489672204Z"
    }
   },
   "id": "4cbd540b98ba00db"
  },
  {
   "cell_type": "code",
   "execution_count": 44,
   "outputs": [
    {
     "data": {
      "text/plain": "['По меньшей мере двое сотрудников правоохранительных органов ранены в результате взрыва в центре Назрани, сообщил «Ленте.ру» источник в правоохранительных органах. «Около 18:30 в центре города неизвестный бросил гранату в полицейский патруль. Оба сотрудника получили ранения и доставлены в реанимацию в тяжелом состоянии. Нападавшему удалось скрыться», — рассказал собеседник редакции. Как сообщил «Ленте.ру» другой источник в правоохранительных органах, инцидент произошел неподалеку от рынка «Фабрика» на улице Картоева. По предварительным данным, полицейские попытались проверить документы у двух подозрительных граждан, но те попытались скрыться. Сейчас на месте происшествия работает следственно-оперативная группа. Официальных комментариев «Ленте.ру» получить пока не удалось.']"
     },
     "execution_count": 44,
     "metadata": {},
     "output_type": "execute_result"
    }
   ],
   "source": [
    "TEXT = \"Правоохранительные органы\"\n",
    "get_response(TEXT, morpher, w2v_index, modelW2V, index_map, 1)"
   ],
   "metadata": {
    "collapsed": false,
    "ExecuteTime": {
     "end_time": "2023-12-09T22:20:37.430016518Z",
     "start_time": "2023-12-09T22:20:37.386917263Z"
    }
   },
   "id": "7326809c3d09f921"
  }
 ],
 "metadata": {
  "kernelspec": {
   "display_name": "Python 3",
   "language": "python",
   "name": "python3"
  },
  "language_info": {
   "codemirror_mode": {
    "name": "ipython",
    "version": 2
   },
   "file_extension": ".py",
   "mimetype": "text/x-python",
   "name": "python",
   "nbconvert_exporter": "python",
   "pygments_lexer": "ipython2",
   "version": "2.7.6"
  }
 },
 "nbformat": 4,
 "nbformat_minor": 5
}
